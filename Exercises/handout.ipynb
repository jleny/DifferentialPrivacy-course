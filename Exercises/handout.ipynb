{
 "cells": [
  {
   "cell_type": "markdown",
   "metadata": {},
   "source": [
    "# Differential Privacy for Dynamic Data : Exercises"
   ]
  },
  {
   "cell_type": "code",
   "execution_count": 1,
   "metadata": {
    "collapsed": true
   },
   "outputs": [],
   "source": [
    "#Clone from GitHub: https://github.com/jleny/DifferentialPrivacy-course.git"
   ]
  },
  {
   "cell_type": "markdown",
   "metadata": {},
   "source": [
    "## Introduction to Differential Privacy"
   ]
  },
  {
   "cell_type": "markdown",
   "metadata": {},
   "source": [
    "**Exercise 1.** Show that the Laplace mechanism to answer a query $q: D \\mapsto \\mathbb R^n$, which outputs $q(d) + Lap\\left(\\frac{\\Delta_1 q}{\\epsilon}\\right),$ with \n",
    "$\\Delta_1 q = \\max_{\\text{Adj}(d,d')} \\|q(d)-q(d')\\|_1$,\n",
    "is $\\epsilon$-differentially private. \n",
    "\n",
    "[Hint: Start from the definition of differential privacy in terms of distributions."
   ]
  },
  {
   "cell_type": "markdown",
   "metadata": {},
   "source": [
    "**Exercise 2.** [To do in extra time, the computations can be messy.] Same exercise as in 1. for the Gaussian mechanism, which outputs $q(d) + \\sigma N(0, I)$ and is $(\\epsilon, \\delta)$-differentially private, with $\\sigma = \\kappa_{\\delta, \\epsilon} \\Delta_2 q$ and $\\Delta_2 q = \\max_{\\text{Adj}(d,d')} \\|q(d)-q(d')\\|_2$.\n",
    "Try to get the tightest multiplicative factor $\\kappa_{\\delta, \\epsilon}$ possible."
   ]
  },
  {
   "cell_type": "markdown",
   "metadata": {},
   "source": [
    "**Exercise 3.** Install the following Julia package and test it."
   ]
  },
  {
   "cell_type": "code",
   "execution_count": 2,
   "metadata": {
    "collapsed": true
   },
   "outputs": [],
   "source": [
    "#Pkg.clone(\"https://github.com/cipherlab-poly/PrivateDynamicData.jl.git\")\n",
    "#Pkg.test(\"PrivateDynamicData\")\n",
    "using PrivateDynamicData"
   ]
  },
  {
   "cell_type": "markdown",
   "metadata": {},
   "source": [
    "Produce a $(\\epsilon = log(2), \\delta = 0.05)$-differentially private average of the following dataset $D \\in \\mathbb R^n$, with $n$ the number of participants. That is, the query is $q: D \\mapsto \\mathbb R$ such that $$q(D) = \\frac{1}{n}\\sum_{i=1}^n d_i.$$ Use the Gaussian mechanism for this purpose.\n",
    "Assume that it is only known that the entries of $D$ are in $[0,1]$, and the adjacency is defined by changing one entry in $D$ arbitrarily."
   ]
  },
  {
   "cell_type": "code",
   "execution_count": 3,
   "metadata": {},
   "outputs": [
    {
     "ename": "LoadError",
     "evalue": "syntax: incomplete: premature end of input",
     "output_type": "error",
     "traceback": [
      "syntax: incomplete: premature end of input",
      ""
     ]
    }
   ],
   "source": [
    "srand(12345)  # reseed the RNG\n",
    "ϵ = log(2); δ = 0.05\n",
    "n = 100\n",
    "D = rand(n)\n",
    "Δ₂q = ??    \n",
    "response = mean(D) + ??"
   ]
  },
  {
   "cell_type": "markdown",
   "metadata": {},
   "source": [
    "**Exercise 4.**\n",
    "Consider a query $q: \\mathbb R^n \\to \\mathbb R^m$ which computes $q(d) = Ad + b$ for vector-valued datasets $d$ in $\\mathbb R^n$, for $A$ a given $m \\times n$ matrix and $b$ a given $m$-dimensional vector.\n",
    "\n",
    "Produce an $\\epsilon$-differentially private version of $q$.\n",
    "For this, assume that each entry of $d$ is in $[0,1]$ and that the adjacency relation is defined by arbitrary variation in one entry of $d$.\n",
    "\n",
    "Use the function ```laplaceMech```, which requires you to compute the $\\ell_1$ sensitivity of the query first."
   ]
  },
  {
   "cell_type": "code",
   "execution_count": 4,
   "metadata": {},
   "outputs": [
    {
     "data": {
      "text/markdown": [
       "```\n",
       "laplaceMech(x,f,l1sens::Real,ϵ::Real)\n",
       "```\n",
       "\n",
       "Computes a randomized version to f(x) according to the Laplace mechanism, for ϵ-differential privacy. l1sens is the l1-sensitivity of f, which must be computed and provided by the user. f must take values in R^k, for some k, i.e., return an array of k real values.\n"
      ],
      "text/plain": [
       "```\n",
       "laplaceMech(x,f,l1sens::Real,ϵ::Real)\n",
       "```\n",
       "\n",
       "Computes a randomized version to f(x) according to the Laplace mechanism, for ϵ-differential privacy. l1sens is the l1-sensitivity of f, which must be computed and provided by the user. f must take values in R^k, for some k, i.e., return an array of k real values.\n"
      ]
     },
     "execution_count": 4,
     "metadata": {},
     "output_type": "execute_result"
    }
   ],
   "source": [
    "@doc laplaceMech"
   ]
  },
  {
   "cell_type": "code",
   "execution_count": 13,
   "metadata": {
    "collapsed": true
   },
   "outputs": [],
   "source": [
    "srand(12345678)  # reseed the RNG for debug.\n",
    "ϵ = log(5)\n",
    "n = 100\n",
    "d = rand(n)\n",
    "A = rand(5, n)/n\n",
    "b = rand(5);"
   ]
  },
  {
   "cell_type": "code",
   "execution_count": 11,
   "metadata": {},
   "outputs": [
    {
     "ename": "LoadError",
     "evalue": "syntax: incomplete: premature end of input",
     "output_type": "error",
     "traceback": [
      "syntax: incomplete: premature end of input",
      ""
     ]
    }
   ],
   "source": [
    "l1sens = ??"
   ]
  },
  {
   "cell_type": "code",
   "execution_count": 12,
   "metadata": {
    "scrolled": true
   },
   "outputs": [
    {
     "ename": "LoadError",
     "evalue": "UndefVarError: l1sens not defined",
     "output_type": "error",
     "traceback": [
      "UndefVarError: l1sens not defined",
      ""
     ]
    }
   ],
   "source": [
    "laplaceMech(d, x -> A*x+b, l1sens, ϵ)"
   ]
  },
  {
   "cell_type": "markdown",
   "metadata": {},
   "source": [
    "**Exercise 5 (Matrix mechanism [Li & Miklau'12]).** We want to improve on the mechanism of the previous exercise. Consider the following scheme. We compute an intermediate $(\\epsilon, \\delta)$-differentially private results $q_1 = Md + w$, where $w$ is an appropriately scaled Gaussian noise. Suppose that $M$ has full column rank, so it has a left inverse $M^\\dagger = (M^TM)^{-1}M^T$. Then output $M^\\dagger q_1$.\n",
    "\n",
    "Express the variance of the error vector made by this mechanism (when ensuring $(\\epsilon, \\delta)$-differential privacy), as a function of $M$."
   ]
  },
  {
   "cell_type": "markdown",
   "metadata": {},
   "source": [
    "## Working with Signals"
   ]
  },
  {
   "cell_type": "markdown",
   "metadata": {},
   "source": [
    "**Exercise 6.** Redo the computations for the input and output perturbation schemes, for the simple example with sliding window averaging in the slides."
   ]
  },
  {
   "cell_type": "markdown",
   "metadata": {},
   "source": [
    "**Exercise 7.** Implement the Zero-Forcing Equalization mechanism. You can replace the spectral factorization step by a more crude approximation of the desired frequency response for the prefilter (this can be done with a least-squares fit using the Yule-Walker method, see *yulewalk* in Matlab). However, you should recompute the sensitivity of the prefilter you obtain, in order to inject a sufficient amount of noise at its output."
   ]
  },
  {
   "cell_type": "markdown",
   "metadata": {},
   "source": [
    "**Exercise 8.** Starting from the expression of the MSE for the LMMSE mechanism, verify the water-filling solution for the ideal prefilter [This is a constrained optimization problem, use Lagrange multipliers]."
   ]
  },
  {
   "cell_type": "markdown",
   "metadata": {
    "collapsed": true
   },
   "source": [
    "## Differentially Private Kalman filtering"
   ]
  },
  {
   "cell_type": "markdown",
   "metadata": {},
   "source": [
    "**Exercise 9.** Consider n identical participants with scalar noisy dynamics\n",
    "$$\n",
    "x_{i,t+1} = a x_{i,t} + w_{i,t} \\\\\n",
    "y_{i,t} = c x_{i,t} + v_{i,t}\n",
    "$$\n",
    "where $w_{i}$, $v_i$ are white Gaussian noise with covariances $\\sigma_w^2$ and $\\sigma_v^2$.\n",
    "We want to output an differentially private estimate of $\\sum_{i=1}^n x_i$. We assume that the signals $y_i$ are privacy sensitive and we take the adjacency relation as explained in the slides\n",
    "$$\n",
    "\\|y_i-y'_i\\|_2 \\leq \\rho, \\text{ for some } i \\text{ and }\n",
    "y_j=y_j' \\text{ if } j \\neq i.\n",
    "$$\n",
    "\n",
    "Express analytically the mean squared error (MSE) for the best steady-state estimator $\\hat z$, for the input perturbation mechanism and for the two-stage architecture with $D = [1, \\ldots, 1]$."
   ]
  },
  {
   "cell_type": "markdown",
   "metadata": {},
   "source": [
    "**Exercise 10.** Verify the performance of the two-stage differentially private Kalman filter for the example given in the slides. Go over the following code and make sure you understand what it is doing."
   ]
  },
  {
   "cell_type": "code",
   "execution_count": 4,
   "metadata": {},
   "outputs": [
    {
     "data": {
      "text/markdown": [
       "```\n",
       "(D, P_val, X_val, Ω_val, M) = staticInputBlock_DPKF_ss(Ls, As, Cs, Vs, Vinvs, Winvs, k_priv, ρ,\n",
       "                                                          m=size(As,1), p=size(Cs,1), r=size(Ls,1))\n",
       "```\n",
       "\n",
       "Compute an input matrix D for the two-block differentially private steady-state Kalman filter mechanism. D takes linear combinations of individual signals before privacy-preserving Gaussian noise injection.\n",
       "\n",
       "Inputs: one matrix per individual\n",
       "\n",
       "  * Ls: size (r,m,nusers)  (if want estimator of sum_i L_i x_i)\n",
       "  * As: size (m,m,nusers)\n",
       "  * Cs: size (p,m,nusers)\n",
       "  * Vs: size (p,p,nusers)\n",
       "\n",
       "-\tVinvs: inverses of Vs (computed externally for modularity/efficiency) -\tWinvs: size (m,m,nusers) -\tρ: vector of size nusers, for the adjacency definition: ||yᵢ-yᵢ'||₂ <= ρᵢ for user i.\n",
       "\n",
       "  * k_priv: proportionality constant for Gaussian privacy-preserving noise\n",
       "\n",
       "injection. Compute it with k_priv = gaussianMechConstant(ϵ,δ) for your choice of ϵ, δ.\n"
      ],
      "text/plain": [
       "```\n",
       "(D, P_val, X_val, Ω_val, M) = staticInputBlock_DPKF_ss(Ls, As, Cs, Vs, Vinvs, Winvs, k_priv, ρ,\n",
       "                                                          m=size(As,1), p=size(Cs,1), r=size(Ls,1))\n",
       "```\n",
       "\n",
       "Compute an input matrix D for the two-block differentially private steady-state Kalman filter mechanism. D takes linear combinations of individual signals before privacy-preserving Gaussian noise injection.\n",
       "\n",
       "Inputs: one matrix per individual\n",
       "\n",
       "  * Ls: size (r,m,nusers)  (if want estimator of sum_i L_i x_i)\n",
       "  * As: size (m,m,nusers)\n",
       "  * Cs: size (p,m,nusers)\n",
       "  * Vs: size (p,p,nusers)\n",
       "\n",
       "-\tVinvs: inverses of Vs (computed externally for modularity/efficiency) -\tWinvs: size (m,m,nusers) -\tρ: vector of size nusers, for the adjacency definition: ||yᵢ-yᵢ'||₂ <= ρᵢ for user i.\n",
       "\n",
       "  * k_priv: proportionality constant for Gaussian privacy-preserving noise\n",
       "\n",
       "injection. Compute it with k_priv = gaussianMechConstant(ϵ,δ) for your choice of ϵ, δ.\n"
      ]
     },
     "execution_count": 4,
     "metadata": {},
     "output_type": "execute_result"
    }
   ],
   "source": [
    "@doc staticInputBlock_DPKF_ss"
   ]
  },
  {
   "cell_type": "code",
   "execution_count": 5,
   "metadata": {
    "collapsed": true
   },
   "outputs": [],
   "source": [
    "n = 10; m=2; p=2; r=1\n",
    "Ls = zeros(r,m,n)\n",
    "As = zeros(m,m,n)\n",
    "Cs = zeros(p,m,n)\n",
    "Vs = zeros(p,p,n)\n",
    "Vinvs = zeros(p,p,n)\n",
    "Ws = zeros(m,m,n)\n",
    "Winvs = zeros(m,m,n)\n",
    "\n",
    "for k=1:n\n",
    "    Ls[:,:,k] = [1.0 0.0]\n",
    "    As[:,:,k] = [-0.4 0.5; 0.4 0.7]\n",
    "    Cs[:,:,k] = [1.0 0.0; 0.0 0.4]\n",
    "    Ws[:,:,k] = 0.1*[1.0 0.2; 0.2 2]\n",
    "    Winvs[:,:,k] = inv(Ws[:,:,k])\n",
    "    Vs[:,:,k] = [0.3 0.0; 0.0 0.4]\n",
    "    Vinvs[:,:,k] = inv(Vs[:,:,k])\n",
    "end\n",
    "\n",
    "k_priv = gaussianMechConstant(log(5), 0.05)\n",
    "ρ = 1.0 * ones(n); ρ[1] = ρ[2] = 0.5;"
   ]
  },
  {
   "cell_type": "code",
   "execution_count": 6,
   "metadata": {},
   "outputs": [
    {
     "name": "stdout",
     "output_type": "stream",
     "text": [
      "Problem\n",
      "  Name                   :                 \n",
      "  Objective sense        : min             \n",
      "  Type                   : CONIC (conic optimization problem)\n",
      "  Constraints            : 3581            \n",
      "  Cones                  : 0               \n",
      "  Scalar variables       : 0               \n",
      "  Matrix variables       : 15              \n",
      "  Integer variables      : 0               \n",
      "\n",
      "Optimizer started.\n",
      "Conic interior-point optimizer started.\n",
      "Presolve started.\n",
      "Linear dependency checker started.\n",
      "Linear dependency checker terminated.\n",
      "Eliminator - tries                  : 0                 time                   : 0.00            \n",
      "Lin. dep.  - tries                  : 1                 time                   : 0.00            \n",
      "Lin. dep.  - number                 : 0               \n",
      "Presolve terminated. Time: 0.00    \n",
      "Optimizer  - threads                : 4               \n",
      "Optimizer  - solved problem         : the primal      \n",
      "Optimizer  - Constraints            : 3581\n",
      "Optimizer  - Cones                  : 0\n",
      "Optimizer  - Scalar variables       : 0                 conic                  : 0               \n",
      "Optimizer  - Semi-definite variables: 15                scalarized             : 4002            \n",
      "Factor     - setup time             : 0.56              dense det. time        : 0.00            \n",
      "Factor     - ML order time          : 0.24              GP order time          : 0.00            \n",
      "Factor     - nonzeros before factor : 3.20e+06          after factor           : 3.20e+06        \n",
      "Factor     - dense dim.             : 0                 flops                  : 4.39e+09        \n",
      "ITE PFEAS    DFEAS    GFEAS    PRSTATUS   POBJ              DOBJ              MU       TIME  \n",
      "0   4.1e+00  1.0e+00  1.5e+00  0.00e+00   2.000000000e+00   0.000000000e+00   1.0e+00  0.58  \n",
      "1   9.7e-01  2.4e-01  4.2e-01  -4.67e-01  3.004404081e+00   3.473174817e+00   2.4e-01  0.89  \n",
      "2   1.3e-01  3.2e-02  2.1e-01  1.88e+00   2.446129045e+00   2.498877588e+00   3.2e-02  1.19  \n",
      "3   2.1e-02  5.0e-03  1.6e-01  1.13e+00   1.586962945e+00   1.574001517e+00   5.0e-03  1.46  \n",
      "4   2.1e-03  5.1e-04  5.1e-02  1.04e+00   1.332824508e+00   1.331526625e+00   5.1e-04  1.75  \n",
      "5   8.1e-04  2.0e-04  3.1e-02  1.01e+00   1.297362909e+00   1.296876209e+00   2.0e-04  2.01  \n",
      "6   5.9e-05  1.4e-05  8.2e-03  9.92e-01   1.285242806e+00   1.285207993e+00   1.4e-05  2.31  \n",
      "7   3.4e-05  8.2e-06  6.1e-03  9.78e-01   1.284534471e+00   1.284514891e+00   8.2e-06  2.59  \n",
      "8   5.3e-06  1.3e-06  2.4e-03  9.92e-01   1.283915578e+00   1.283912581e+00   1.3e-06  2.87  \n",
      "9   9.7e-07  2.4e-07  1.0e-03  9.95e-01   1.283808384e+00   1.283807836e+00   2.4e-07  3.14  \n",
      "10  2.5e-09  6.1e-10  9.1e-10  1.00e+00   1.283790433e+00   1.283790431e+00   6.1e-10  3.42  \n",
      "Interior-point optimizer terminated. Time: 3.42. \n",
      "\n",
      "Optimizer terminated. Time: 3.45    \n",
      "\n",
      "Interior-point solution summary\n",
      "  Problem status  : PRIMAL_AND_DUAL_FEASIBLE\n",
      "  Solution status : OPTIMAL\n",
      "  Primal.  obj: 1.2837904328e+00    nrm: 1e+01    Viol.  con: 4e-09    barvar: 0e+00  \n",
      "  Dual.    obj: 1.2837904310e+00    nrm: 1e+00    Viol.  con: 0e+00    barvar: 9e-10  \n",
      "============================================\n",
      "Solution status: Optimal\n",
      "Objective value: 1.283790432847661\n",
      "============================================\n"
     ]
    },
    {
     "data": {
      "text/plain": [
       "(\n",
       "[1.80754 -0.346596 … 0.891387 -0.230021; 0.329797 1.71415 … 0.217785 0.84615; 0.187724 0.955606 … -0.123669 -0.470434; -0.766618 0.151097 … 0.377762 -0.099054],\n",
       "\n",
       "[0.860764 0.0117614 … 0.165435 -0.0171618; 0.0117614 0.77235 … -0.00218371 0.0851083; … ; 0.165435 -0.00218371 … 0.21569 0.0034668; -0.0171618 0.0851083 … 0.0034668 0.192668],\n",
       "\n",
       "[1.28379],\n",
       "\n",
       "[5.0503 -1.11432 … 0.197618 -0.0137331; -1.11432 1.94934 … -0.00922951 0.0442737; … ; 0.197618 -0.00922951 … 2.56578 -0.561207; -0.0137331 0.0442737 … -0.561207 1.24504],\n",
       "\n",
       "[3.99923 0.0017499 … 1.37023 -0.149091; 0.0017499 3.9958 … 0.00326472 1.06564; … ; 1.37023 0.00326472 … 1.0 2.87596e-7; -0.149091 1.06564 … 2.87596e-7 0.999999])"
      ]
     },
     "execution_count": 6,
     "metadata": {},
     "output_type": "execute_result"
    }
   ],
   "source": [
    "(D, P_val, X_val, Ω_val, M) = staticInputBlock_DPKF_ss(Ls, As, Cs, Vs, Vinvs, Winvs, ρ, k_priv)"
   ]
  },
  {
   "cell_type": "code",
   "execution_count": 7,
   "metadata": {},
   "outputs": [
    {
     "data": {
      "text/plain": [
       "4×20 Array{Float64,2}:\n",
       "  1.80754   -0.346596   1.80754   …  -0.230021   0.891387  -0.230021\n",
       "  0.329797   1.71415    0.329797      0.84615    0.217785   0.84615 \n",
       "  0.187724   0.955606   0.187724     -0.470434  -0.123669  -0.470434\n",
       " -0.766618   0.151097  -0.766618     -0.099054   0.377762  -0.099054"
      ]
     },
     "execution_count": 7,
     "metadata": {},
     "output_type": "execute_result"
    }
   ],
   "source": [
    "D"
   ]
  },
  {
   "cell_type": "code",
   "execution_count": 8,
   "metadata": {},
   "outputs": [
    {
     "data": {
      "text/markdown": [
       "```\n",
       "evaluateKFperf(D, Ls, As, Cs, Vs, Ws, ρ, k_priv)\n",
       "```\n",
       "\n",
       "Compute the steady-state MSE of the two-block differentially private Kalman filter, with a static matrix D to combine input signals. The performance is computed by solving an algebraic Riccati equation. It corresponds to the MSE at the end of a measurement update state in the Kalman filter.\n",
       "\n",
       "Inputs: one matrix per individual\n",
       "\n",
       "  * D: size (q,nusers*p)  (q can be arbitrary, p = individual output signal dim.)\n",
       "  * Ls: size (r,m,nusers)  (if want estimator of sum_i L_i x_i)\n",
       "  * As: size (m,m,nusers)\n",
       "  * Cs: size (p,m,nusers)\n",
       "  * Vs: size (p,p,nusers)\n",
       "\n",
       "-\tWs: size (m,m,nusers) -\tρ: vector of size nusers, for the adjacency definition: ||yᵢ-yᵢ'||₂ <= ρᵢ for user i.\n",
       "\n",
       "  * k_priv: proportionality constant for Gaussian privacy-preserving noise\n",
       "\n",
       "injection. Compute it with k_priv = gaussianMechConstant(ϵ,δ) for your choice of ϵ, δ.\n"
      ],
      "text/plain": [
       "```\n",
       "evaluateKFperf(D, Ls, As, Cs, Vs, Ws, ρ, k_priv)\n",
       "```\n",
       "\n",
       "Compute the steady-state MSE of the two-block differentially private Kalman filter, with a static matrix D to combine input signals. The performance is computed by solving an algebraic Riccati equation. It corresponds to the MSE at the end of a measurement update state in the Kalman filter.\n",
       "\n",
       "Inputs: one matrix per individual\n",
       "\n",
       "  * D: size (q,nusers*p)  (q can be arbitrary, p = individual output signal dim.)\n",
       "  * Ls: size (r,m,nusers)  (if want estimator of sum_i L_i x_i)\n",
       "  * As: size (m,m,nusers)\n",
       "  * Cs: size (p,m,nusers)\n",
       "  * Vs: size (p,p,nusers)\n",
       "\n",
       "-\tWs: size (m,m,nusers) -\tρ: vector of size nusers, for the adjacency definition: ||yᵢ-yᵢ'||₂ <= ρᵢ for user i.\n",
       "\n",
       "  * k_priv: proportionality constant for Gaussian privacy-preserving noise\n",
       "\n",
       "injection. Compute it with k_priv = gaussianMechConstant(ϵ,δ) for your choice of ϵ, δ.\n"
      ]
     },
     "execution_count": 8,
     "metadata": {},
     "output_type": "execute_result"
    }
   ],
   "source": [
    "@doc evaluateKFperf"
   ]
  },
  {
   "cell_type": "code",
   "execution_count": 9,
   "metadata": {},
   "outputs": [
    {
     "data": {
      "text/html": [
       "1.283790398265364"
      ],
      "text/plain": [
       "1.283790398265364"
      ]
     },
     "execution_count": 9,
     "metadata": {},
     "output_type": "execute_result"
    }
   ],
   "source": [
    "evaluateKFperf(D, Ls, As, Cs, Vs, Ws, ρ, k_priv)"
   ]
  },
  {
   "cell_type": "code",
   "execution_count": 10,
   "metadata": {},
   "outputs": [
    {
     "data": {
      "text/html": [
       "1.8396401424963682"
      ],
      "text/plain": [
       "1.8396401424963682"
      ]
     },
     "execution_count": 10,
     "metadata": {},
     "output_type": "execute_result"
    }
   ],
   "source": [
    "evaluateKFperf(eye(2*n), Ls, As, Cs, Vs, Ws, ρ, k_priv)"
   ]
  },
  {
   "cell_type": "code",
   "execution_count": null,
   "metadata": {
    "collapsed": true
   },
   "outputs": [],
   "source": []
  }
 ],
 "metadata": {
  "kernelspec": {
   "display_name": "Julia 0.5.2",
   "language": "julia",
   "name": "julia-0.5"
  },
  "language_info": {
   "file_extension": ".jl",
   "mimetype": "application/julia",
   "name": "julia",
   "version": "0.5.2"
  }
 },
 "nbformat": 4,
 "nbformat_minor": 2
}
